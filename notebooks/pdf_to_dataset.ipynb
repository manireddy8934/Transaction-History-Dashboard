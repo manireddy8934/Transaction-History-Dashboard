{
 "cells": [
  {
   "cell_type": "markdown",
   "id": "7b042078",
   "metadata": {},
   "source": [
    "# Step 1: Install Required Libraries\n",
    "We install the necessary Python libraries to extract and analyze the bank statement data.\n"
   ]
  },
  {
   "cell_type": "code",
   "execution_count": 30,
   "id": "c7bb3659",
   "metadata": {},
   "outputs": [
    {
     "name": "stdout",
     "output_type": "stream",
     "text": [
      "Requirement already satisfied: pdfplumber in /Users/manireddy34/anaconda3/lib/python3.11/site-packages (0.11.7)\n",
      "Requirement already satisfied: pandas in /Users/manireddy34/anaconda3/lib/python3.11/site-packages (2.2.3)\n",
      "Requirement already satisfied: pdfminer.six==20250506 in /Users/manireddy34/anaconda3/lib/python3.11/site-packages (from pdfplumber) (20250506)\n",
      "Requirement already satisfied: Pillow>=9.1 in /Users/manireddy34/anaconda3/lib/python3.11/site-packages (from pdfplumber) (9.4.0)\n",
      "Requirement already satisfied: pypdfium2>=4.18.0 in /Users/manireddy34/anaconda3/lib/python3.11/site-packages (from pdfplumber) (4.30.1)\n",
      "Requirement already satisfied: charset-normalizer>=2.0.0 in /Users/manireddy34/anaconda3/lib/python3.11/site-packages (from pdfminer.six==20250506->pdfplumber) (2.0.4)\n",
      "Requirement already satisfied: cryptography>=36.0.0 in /Users/manireddy34/anaconda3/lib/python3.11/site-packages (from pdfminer.six==20250506->pdfplumber) (41.0.3)\n",
      "Requirement already satisfied: numpy>=1.23.2 in /Users/manireddy34/anaconda3/lib/python3.11/site-packages (from pandas) (1.24.4)\n",
      "Requirement already satisfied: python-dateutil>=2.8.2 in /Users/manireddy34/anaconda3/lib/python3.11/site-packages (from pandas) (2.8.2)\n",
      "Requirement already satisfied: pytz>=2020.1 in /Users/manireddy34/anaconda3/lib/python3.11/site-packages (from pandas) (2023.3.post1)\n",
      "Requirement already satisfied: tzdata>=2022.7 in /Users/manireddy34/anaconda3/lib/python3.11/site-packages (from pandas) (2023.3)\n",
      "Requirement already satisfied: six>=1.5 in /Users/manireddy34/anaconda3/lib/python3.11/site-packages (from python-dateutil>=2.8.2->pandas) (1.16.0)\n",
      "Requirement already satisfied: cffi>=1.12 in /Users/manireddy34/anaconda3/lib/python3.11/site-packages (from cryptography>=36.0.0->pdfminer.six==20250506->pdfplumber) (1.15.1)\n",
      "Requirement already satisfied: pycparser in /Users/manireddy34/anaconda3/lib/python3.11/site-packages (from cffi>=1.12->cryptography>=36.0.0->pdfminer.six==20250506->pdfplumber) (2.21)\n",
      "Note: you may need to restart the kernel to use updated packages.\n"
     ]
    }
   ],
   "source": [
    "pip install pdfplumber pandas"
   ]
  },
  {
   "cell_type": "markdown",
   "id": "64c25b6a",
   "metadata": {},
   "source": [
    "# Step 2: Extract text from your PDF"
   ]
  },
  {
   "cell_type": "code",
   "execution_count": 52,
   "id": "2a1cc032",
   "metadata": {},
   "outputs": [
    {
     "name": "stderr",
     "output_type": "stream",
     "text": [
      "Could get FontBBox from font descriptor because None cannot be parsed as 4 floats\n",
      "Could get FontBBox from font descriptor because None cannot be parsed as 4 floats\n",
      "Could get FontBBox from font descriptor because None cannot be parsed as 4 floats\n"
     ]
    }
   ],
   "source": [
    "import pdfplumber\n",
    "import pandas as pd\n",
    "import re\n",
    "\n",
    "# File paths\n",
    "pdf_path = \"/Users/manireddy34/Desktop/Bank-Statement-Analysis/Data/Transaction History.pdf\"\n",
    "\n",
    "\n",
    "# Lists to store extracted data\n",
    "dates, names, types, amounts = [], [], [], []\n",
    "\n",
    "# Open the PDF\n",
    "with pdfplumber.open(pdf_path) as pdf:\n",
    "    for page in pdf.pages:\n",
    "        lines = page.extract_text().split(\"\\n\")\n",
    "\n",
    "        for line in lines:\n",
    "            # Match pattern: Mar 29, 2025 Paid to X DEBIT ₹1234\n",
    "            match = re.search(r'^([A-Za-z]{3} \\d{2}, \\d{4}) (Paid to|Received from) (.+?) (DEBIT|CREDIT) ₹([\\d,]+)', line)\n",
    "            if match:\n",
    "                date = match.group(1)\n",
    "                direction = match.group(2)\n",
    "                name = match.group(3).strip()\n",
    "                txn_type = match.group(4)\n",
    "                amount = match.group(5).replace(\",\", \"\")\n",
    "\n",
    "                # Store result\n",
    "                dates.append(date)\n",
    "                names.append(name)\n",
    "                types.append(txn_type)\n",
    "                amounts.append(amount)\n",
    "\n",
    "# Create DataFrame\n",
    "df = pd.DataFrame({\n",
    "    \"Date\": dates,\n",
    "    \"Name\": names,\n",
    "    \"Type\": types,\n",
    "    \"Amount\": amounts\n",
    "})\n"
   ]
  },
  {
   "cell_type": "markdown",
   "id": "bf13f210",
   "metadata": {},
   "source": [
    "# Step 3: Save the DataFrame as a CSV File"
   ]
  },
  {
   "cell_type": "code",
   "execution_count": 51,
   "id": "9b3d6d3b",
   "metadata": {},
   "outputs": [
    {
     "name": "stdout",
     "output_type": "stream",
     "text": [
      "✅ Extracted 355 transactions and saved to:\n",
      "/Users/manireddy34/Desktop/Bank-Statement-Analysis/Data/Transactions History.csv\n"
     ]
    }
   ],
   "source": [
    "csv_path = \"/Users/manireddy34/Desktop/Bank-Statement-Analysis/Data/Transactions History.csv\"\n",
    "\n",
    "# Save to CSV\n",
    "df.to_csv(csv_path, index=False)\n",
    "print(f\"✅ Extracted {len(df)} transactions and saved to:\\n{csv_path}\")"
   ]
  },
  {
   "cell_type": "code",
   "execution_count": null,
   "id": "f67b191e",
   "metadata": {},
   "outputs": [],
   "source": []
  }
 ],
 "metadata": {
  "kernelspec": {
   "display_name": "Python 3 (ipykernel)",
   "language": "python",
   "name": "python3"
  },
  "language_info": {
   "codemirror_mode": {
    "name": "ipython",
    "version": 3
   },
   "file_extension": ".py",
   "mimetype": "text/x-python",
   "name": "python",
   "nbconvert_exporter": "python",
   "pygments_lexer": "ipython3",
   "version": "3.11.5"
  }
 },
 "nbformat": 4,
 "nbformat_minor": 5
}
